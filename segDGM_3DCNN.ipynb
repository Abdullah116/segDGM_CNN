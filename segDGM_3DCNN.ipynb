{
 "cells": [
  {
   "cell_type": "code",
   "execution_count": 1,
   "metadata": {},
   "outputs": [
    {
     "name": "stderr",
     "output_type": "stream",
     "text": [
      "Using TensorFlow backend.\n"
     ]
    }
   ],
   "source": [
    "%matplotlib inline\n",
    "import nibabel as nib\n",
    "import numpy as np\n",
    "from scipy import ndimage\n",
    "from keras import backend as K\n",
    "from sklearn.metrics import accuracy_score, precision_score\n",
    "\n",
    "from utils import *\n",
    "from model_FCNN import generate_model\n",
    "\n",
    "seed = 47\n",
    "np.random.seed(seed)"
   ]
  },
  {
   "cell_type": "code",
   "execution_count": 104,
   "metadata": {},
   "outputs": [],
   "source": [
    "from importlib import reload\n",
    "\n",
    "import utils\n",
    "reload(utils)\n",
    "from utils import *\n",
    "\n",
    "import model_FCNN\n",
    "reload(model_FCNN)\n",
    "from model_FCNN import generate_model"
   ]
  },
  {
   "cell_type": "markdown",
   "metadata": {},
   "source": [
    "# Problem configuration"
   ]
  },
  {
   "cell_type": "code",
   "execution_count": 146,
   "metadata": {},
   "outputs": [],
   "source": [
    "num_classes = 11\n",
    "\n",
    "n_training = 15\n",
    "n_test = 5\n",
    "\n",
    "patience = 5\n",
    "model_filename = 'models/outrun_step_{}.h5'\n",
    "csv_filename = 'log/outrun_step_{}.cvs'\n",
    "\n",
    "nb_epoch = 40\n",
    "validation_split = 0.25\n",
    "\n",
    "class_mapper = {0:0, 2:1, 3:2, 4:3, 5:4, 6:5, 7:6, 8:7, 9:8, 10:9, 11:10}\n",
    "class_mapper_inv = {0:0, 1:2, 2:3, 3:4, 4:5, 5:6, 6:7, 7:8, 8:9, 9:10, 10:11}\n",
    "\n",
    "matrix_size = (160, 220, 48)\n",
    "\n",
    "extraction_step = (3, 3, 3)\n",
    "#extraction_step = (9, 9, 3)\n",
    "\n",
    "segment_size = (27, 27, 21)\n",
    "core_size = (9, 9, 3)"
   ]
  },
  {
   "cell_type": "markdown",
   "metadata": {},
   "source": [
    "# Architecture"
   ]
  },
  {
   "cell_type": "markdown",
   "metadata": {},
   "source": [
    "# 1. Initial segmentation"
   ]
  },
  {
   "cell_type": "markdown",
   "metadata": {},
   "source": [
    "## 1.1 Read data"
   ]
  },
  {
   "cell_type": "code",
   "execution_count": 147,
   "metadata": {},
   "outputs": [],
   "source": [
    "QSM_vols = np.empty(((n_training,) + matrix_size), dtype=precision_global)\n",
    "label_vols = np.empty(((n_training,) + matrix_size), dtype=precision_global)\n",
    "for case_idx in range(1, n_training+1) :\n",
    "    QSM_vols[(case_idx - 1), :, :, :] = read_vol(case_idx, 'QSM')\n",
    "    label_vols[(case_idx - 1), :, :, :] = read_vol(case_idx, 'label')"
   ]
  },
  {
   "cell_type": "markdown",
   "metadata": {},
   "source": [
    "## 1.2 Pre-processing"
   ]
  },
  {
   "cell_type": "code",
   "execution_count": 148,
   "metadata": {},
   "outputs": [],
   "source": [
    "## Intensity normalisation (zero mean and unit variance)\n",
    "QSM_mean = 127.0\n",
    "QSM_std = 128.0\n",
    "QSM_vols = (QSM_vols - QSM_mean) / QSM_std\n",
    "\n",
    "# Combine labels of BG and CSF\n",
    "tmp = np.copy(label_vols)\n",
    "for class_idx in class_mapper :\n",
    "    label_vols[tmp == class_idx] = class_mapper[class_idx]\n",
    "del tmp"
   ]
  },
  {
   "cell_type": "code",
   "execution_count": 69,
   "metadata": {},
   "outputs": [
    {
     "data": {
      "text/plain": [
       "10.0"
      ]
     },
     "execution_count": 69,
     "metadata": {},
     "output_type": "execute_result"
    }
   ],
   "source": [
    "label_vols.max()"
   ]
  },
  {
   "cell_type": "code",
   "execution_count": 149,
   "metadata": {},
   "outputs": [
    {
     "data": {
      "image/png": "[encoded data removed]",
      "text/plain": [
       "<matplotlib.figure.Figure at 0x7f09a78320b8>"
      ]
     },
     "metadata": {},
     "output_type": "display_data"
    }
   ],
   "source": [
    "plots(50*np.squeeze(label_vols[0,:,:,[29,25]]))"
   ]
  },
  {
   "cell_type": "markdown",
   "metadata": {},
   "source": [
    "## 1.3 Data preparation"
   ]
  },
  {
   "cell_type": "code",
   "execution_count": 150,
   "metadata": {},
   "outputs": [
    {
     "data": {
      "text/plain": [
       "((10095, 1, 27, 27, 21), (10095, 243, 11))"
      ]
     },
     "execution_count": 150,
     "metadata": {},
     "output_type": "execute_result"
    }
   ],
   "source": [
    "#x_train, y_train = build_set(T1_vols, T2_vols, label_vols, (3, 9, 3))\n",
    "x_train, y_train = build_set(QSM_vols, label_vols, extraction_step, segment_size, core_size)\n",
    "x_train.shape, y_train.shape"
   ]
  },
  {
   "cell_type": "markdown",
   "metadata": {},
   "source": [
    "## 1.4 Configure callbacks"
   ]
  },
  {
   "cell_type": "code",
   "execution_count": 151,
   "metadata": {},
   "outputs": [],
   "source": [
    "from keras.callbacks import ModelCheckpoint\n",
    "from keras.callbacks import CSVLogger\n",
    "from keras.callbacks import EarlyStopping\n",
    "\n",
    "# Early stopping for reducing over-fitting risk\n",
    "stopper = EarlyStopping(patience=patience)\n",
    "\n",
    "# Model checkpoint to save the training results\n",
    "checkpointer = ModelCheckpoint(\n",
    "    filepath=model_filename.format('1'),\n",
    "    verbose=0,\n",
    "    save_best_only=True,\n",
    "    save_weights_only=True)\n",
    "\n",
    "# CSVLogger to save the training results in a csv file\n",
    "csv_logger = CSVLogger(csv_filename.format(1), separator=';')\n",
    "\n",
    "callbacks = [checkpointer, csv_logger, stopper]\n",
    "#callbacks = [checkpointer, csv_logger]"
   ]
  },
  {
   "cell_type": "markdown",
   "metadata": {},
   "source": [
    "## 1.5 Training"
   ]
  },
  {
   "cell_type": "code",
   "execution_count": 152,
   "metadata": {
    "scrolled": false
   },
   "outputs": [
    {
     "name": "stdout",
     "output_type": "stream",
     "text": [
      "Train on 7571 samples, validate on 2524 samples\n",
      "Epoch 1/40\n",
      "7571/7571 [==============================] - 51s - loss: 0.6796 - categorical_accuracy: 0.7993 - val_loss: 0.5257 - val_categorical_accuracy: 0.8380\n",
      "Epoch 2/40\n",
      "7571/7571 [==============================] - 48s - loss: 0.2680 - categorical_accuracy: 0.9085 - val_loss: 0.4130 - val_categorical_accuracy: 0.8928\n",
      "Epoch 3/40\n",
      "7571/7571 [==============================] - 49s - loss: 0.1230 - categorical_accuracy: 0.9507 - val_loss: 0.4134 - val_categorical_accuracy: 0.9024\n",
      "Epoch 4/40\n",
      "7571/7571 [==============================] - 49s - loss: 0.0816 - categorical_accuracy: 0.9665 - val_loss: 0.5078 - val_categorical_accuracy: 0.9000\n",
      "Epoch 5/40\n",
      "7571/7571 [==============================] - 49s - loss: 0.0554 - categorical_accuracy: 0.9774 - val_loss: 0.5675 - val_categorical_accuracy: 0.9001\n",
      "Epoch 6/40\n",
      "7571/7571 [==============================] - 49s - loss: 0.0392 - categorical_accuracy: 0.9844 - val_loss: 0.5176 - val_categorical_accuracy: 0.9063\n",
      "Epoch 7/40\n",
      "7571/7571 [==============================] - 49s - loss: 0.0285 - categorical_accuracy: 0.9890 - val_loss: 0.8235 - val_categorical_accuracy: 0.8976\n",
      "Epoch 8/40\n",
      "7571/7571 [==============================] - 49s - loss: 0.0222 - categorical_accuracy: 0.9915 - val_loss: 0.6745 - val_categorical_accuracy: 0.9092\n"
     ]
    },
    {
     "data": {
      "text/plain": [
       "<keras.callbacks.History at 0x7f09b661e400>"
      ]
     },
     "execution_count": 152,
     "metadata": {},
     "output_type": "execute_result"
    }
   ],
   "source": [
    "# Build model\n",
    "model = generate_model(num_classes, segment_size, core_size)\n",
    "\n",
    "K.set_value(model.optimizer.lr, 1e-3)\n",
    "\n",
    "model.fit(\n",
    "    x_train,\n",
    "    y_train,\n",
    "    epochs=nb_epoch,\n",
    "    validation_split=validation_split,\n",
    "    verbose=1,\n",
    "    callbacks=callbacks)\n",
    "\n",
    "# freeing space\n",
    "#del x_train\n",
    "#del y_train"
   ]
  },
  {
   "cell_type": "code",
   "execution_count": 153,
   "metadata": {},
   "outputs": [
    {
     "name": "stdout",
     "output_type": "stream",
     "text": [
      "Train on 7571 samples, validate on 2524 samples\n",
      "Epoch 1/40\n",
      "7571/7571 [==============================] - 48s - loss: 0.1212 - categorical_accuracy: 0.9512 - val_loss: 0.4065 - val_categorical_accuracy: 0.9035\n",
      "Epoch 2/40\n",
      "7571/7571 [==============================] - 49s - loss: 0.0984 - categorical_accuracy: 0.9597 - val_loss: 0.4669 - val_categorical_accuracy: 0.9013\n",
      "Epoch 3/40\n",
      "7571/7571 [==============================] - 49s - loss: 0.0829 - categorical_accuracy: 0.9658 - val_loss: 0.4542 - val_categorical_accuracy: 0.9039\n",
      "Epoch 4/40\n",
      "7571/7571 [==============================] - 49s - loss: 0.0700 - categorical_accuracy: 0.9711 - val_loss: 0.5359 - val_categorical_accuracy: 0.9021\n",
      "Epoch 5/40\n",
      "7571/7571 [==============================] - 49s - loss: 0.0584 - categorical_accuracy: 0.9762 - val_loss: 0.5942 - val_categorical_accuracy: 0.9008\n",
      "Epoch 6/40\n",
      "7571/7571 [==============================] - 49s - loss: 0.0487 - categorical_accuracy: 0.9804 - val_loss: 0.6024 - val_categorical_accuracy: 0.9026\n",
      "Epoch 7/40\n",
      "7571/7571 [==============================] - 49s - loss: 0.0383 - categorical_accuracy: 0.9849 - val_loss: 0.7073 - val_categorical_accuracy: 0.9000\n"
     ]
    },
    {
     "data": {
      "text/plain": [
       "<keras.callbacks.History at 0x7f09bb999390>"
      ]
     },
     "execution_count": 153,
     "metadata": {},
     "output_type": "execute_result"
    }
   ],
   "source": [
    "model.load_weights(model_filename.format('1'))\n",
    "\n",
    "K.set_value(model.optimizer.lr, 1e-4)\n",
    "\n",
    "model.fit(\n",
    "    x_train,\n",
    "    y_train,\n",
    "    epochs=nb_epoch,\n",
    "    validation_split=validation_split,\n",
    "    verbose=1,\n",
    "    callbacks=callbacks)"
   ]
  },
  {
   "cell_type": "code",
   "execution_count": null,
   "metadata": {},
   "outputs": [],
   "source": [
    "model.load_weights(model_filename.format('1'))\n",
    "\n",
    "K.set_value(model.optimizer.lr, 1e-5)\n",
    "\n",
    "model.fit(\n",
    "    x_train,\n",
    "    y_train,\n",
    "    epochs=20,\n",
    "    validation_split=validation_split,\n",
    "    verbose=1,\n",
    "    callbacks=callbacks)"
   ]
  },
  {
   "cell_type": "code",
   "execution_count": null,
   "metadata": {},
   "outputs": [],
   "source": [
    "model.save_weights(model_filename.format(1))"
   ]
  },
  {
   "cell_type": "markdown",
   "metadata": {},
   "source": [
    "## 1.6 Classification"
   ]
  },
  {
   "cell_type": "code",
   "execution_count": 154,
   "metadata": {},
   "outputs": [],
   "source": [
    "from keras.models import load_model\n",
    "\n",
    "# Load best model\n",
    "model = generate_model(num_classes, segment_size, core_size)\n",
    "model.load_weights(model_filename.format(1))"
   ]
  },
  {
   "cell_type": "code",
   "execution_count": 155,
   "metadata": {},
   "outputs": [
    {
     "data": {
      "text/plain": [
       "3300"
      ]
     },
     "execution_count": 155,
     "metadata": {},
     "output_type": "execute_result"
    }
   ],
   "source": [
    "len_patch = extract_patches(read_vol(1, 'QSM'), patch_shape=segment_size, extraction_step=(9, 9, 3)).shape[0]\n",
    "len_patch"
   ]
  },
  {
   "cell_type": "code",
   "execution_count": 156,
   "metadata": {},
   "outputs": [
    {
     "name": "stdout",
     "output_type": "stream",
     "text": [
      "1\n",
      "3296/3300 [============================>.] - ETA: 0s2\n",
      "3296/3300 [============================>.] - ETA: 0s3\n",
      "3296/3300 [============================>.] - ETA: 0s4\n",
      "3296/3300 [============================>.] - ETA: 0s5\n",
      "3296/3300 [============================>.] - ETA: 0s6\n",
      "3296/3300 [============================>.] - ETA: 0s7\n",
      "3296/3300 [============================>.] - ETA: 0s8\n",
      "3296/3300 [============================>.] - ETA: 0s9\n",
      "3296/3300 [============================>.] - ETA: 0s10\n",
      "3296/3300 [============================>.] - ETA: 0s11\n",
      "3296/3300 [============================>.] - ETA: 0s12\n",
      "3296/3300 [============================>.] - ETA: 0s13\n",
      "3296/3300 [============================>.] - ETA: 0s14\n",
      "3296/3300 [============================>.] - ETA: 0s15\n",
      "3296/3300 [============================>.] - ETA: 0s"
     ]
    }
   ],
   "source": [
    "segmentations_all = []\n",
    "\n",
    "for case_idx in range(1,16):\n",
    "\n",
    "    print(case_idx)\n",
    "    QSM_test_vol = read_vol(case_idx, 'QSM')\n",
    "\n",
    "    x_test = np.zeros((len_patch, 1,) + segment_size, dtype=precision_global)\n",
    "    x_test[:, 0, :, :, :] = extract_patches(QSM_test_vol, patch_shape=segment_size, extraction_step=(9, 9, 3))\n",
    "    x_test[:, 0, :, :, :] = (x_test[:, 0, :, :, :] - QSM_mean) / QSM_std\n",
    "\n",
    "    pred = model.predict(x_test, verbose=1)\n",
    "    pred_classes = np.argmax(pred, axis=2)\n",
    "    pred_classes = pred_classes.reshape((len(pred_classes), 9, 9, 3))\n",
    "    segmentation = reconstruct_volume(pred_classes, matrix_size)\n",
    "    \n",
    "    segmentations_all = segmentations_all + [segmentation]\n",
    "    \n",
    "segmentations_all = np.stack(segmentations_all, axis=0)"
   ]
  },
  {
   "cell_type": "code",
   "execution_count": 157,
   "metadata": {},
   "outputs": [
    {
     "data": {
      "text/plain": [
       "10.0"
      ]
     },
     "execution_count": 157,
     "metadata": {},
     "output_type": "execute_result"
    }
   ],
   "source": [
    "#segmentation = reconstruct_volume(pred_classes, matrix_size)\n",
    "segmentations_all.max()"
   ]
  },
  {
   "cell_type": "code",
   "execution_count": 158,
   "metadata": {},
   "outputs": [
    {
     "data": {
      "image/png": "[encoded data removed]",
      "text/plain": [
       "<matplotlib.figure.Figure at 0x7f09a6db8160>"
      ]
     },
     "metadata": {},
     "output_type": "display_data"
    }
   ],
   "source": [
    "plots(50*(np.squeeze(label_vols[0:15,:,:,25])), rows=3)"
   ]
  },
  {
   "cell_type": "code",
   "execution_count": 159,
   "metadata": {},
   "outputs": [
    {
     "data": {
      "image/png": "[encoded data removed]",
      "text/plain": [
       "<matplotlib.figure.Figure at 0x7f09b525f8d0>"
      ]
     },
     "metadata": {},
     "output_type": "display_data"
    }
   ],
   "source": [
    "plots(50*(np.squeeze(segmentations_all[0:15,:,:,25])), rows=3)"
   ]
  },
  {
   "cell_type": "code",
   "execution_count": null,
   "metadata": {},
   "outputs": [],
   "source": [
    "for case_idx in range(1, 11) :\n",
    "    QSM_test_vol = read_vol(case_idx, 'QSM')\n",
    "    \n",
    "    x_test = np.zeros((len_patch, 1, 27, 27, 27), dtype=precision_global)\n",
    "    x_test[:, 0, :, :, :] = extract_patches(QSM_test_vol, patch_shape=(27, 27, 27), extraction_step=(3, 3, 3))\n",
    "    x_test[:, 0, :, :, :] = (x_test[:, 0, :, :, :] - QSM_mean) / QSM_std\n",
    "\n",
    "    pred = model.predict(x_test, verbose=2)\n",
    "    pred_classes = np.argmax(pred, axis=2)\n",
    "    pred_classes = pred_classes.reshape((len(pred_classes), 9, 9, 9))\n",
    "    segmentation = reconstruct_volume(pred_classes, matrix_size)\n",
    "    \n",
    "    segmentation[segmentation == 1] = 1\n",
    "    segmentation[segmentation == 0] = 0\n",
    "    \n",
    "    save_vol(segmentation, case_idx)\n",
    "    \n",
    "    print(\"Finished segmentation of case # {}\".format(case_idx))\n",
    "\n",
    "print(\"Done with Step 1\")"
   ]
  },
  {
   "cell_type": "markdown",
   "metadata": {},
   "source": [
    "# 2. Mask Refinement"
   ]
  },
  {
   "cell_type": "markdown",
   "metadata": {},
   "source": [
    "## 2.1 Include more segment into training"
   ]
  },
  {
   "cell_type": "code",
   "execution_count": 160,
   "metadata": {},
   "outputs": [],
   "source": [
    "from keras.models import load_model\n",
    "\n",
    "# Load best model\n",
    "model = generate_model(num_classes, segment_size, core_size)\n",
    "model.load_weights(model_filename.format('1'))"
   ]
  },
  {
   "cell_type": "code",
   "execution_count": 161,
   "metadata": {},
   "outputs": [
    {
     "data": {
      "text/plain": [
       "3300"
      ]
     },
     "execution_count": 161,
     "metadata": {},
     "output_type": "execute_result"
    }
   ],
   "source": [
    "len_patch = extract_patches(read_vol(1, 'QSM'), patch_shape=segment_size, extraction_step=(9, 9, 3)).shape[0]\n",
    "len_patch"
   ]
  },
  {
   "cell_type": "code",
   "execution_count": 162,
   "metadata": {},
   "outputs": [
    {
     "name": "stdout",
     "output_type": "stream",
     "text": [
      "1\n",
      "3296/3300 [============================>.] - ETA: 0s2\n",
      "3296/3300 [============================>.] - ETA: 0s3\n",
      "3296/3300 [============================>.] - ETA: 0s4\n",
      "3296/3300 [============================>.] - ETA: 0s5\n",
      "3296/3300 [============================>.] - ETA: 0s6\n",
      "3296/3300 [============================>.] - ETA: 0s7\n",
      "3296/3300 [============================>.] - ETA: 0s8\n",
      "3296/3300 [============================>.] - ETA: 0s9\n",
      "3296/3300 [============================>.] - ETA: 0s10\n",
      "3296/3300 [============================>.] - ETA: 0s11\n",
      "3296/3300 [============================>.] - ETA: 0s12\n",
      "3296/3300 [============================>.] - ETA: 0s13\n",
      "3296/3300 [============================>.] - ETA: 0s14\n",
      "3296/3300 [============================>.] - ETA: 0s15\n",
      "3296/3300 [============================>.] - ETA: 0s"
     ]
    }
   ],
   "source": [
    "segmentations_all = []\n",
    "\n",
    "for case_idx in range(1,16):\n",
    "\n",
    "    print(case_idx)\n",
    "    QSM_test_vol = read_vol(case_idx, 'QSM')\n",
    "\n",
    "    x_test = np.zeros((len_patch, 1,) + segment_size, dtype=precision_global)\n",
    "    x_test[:, 0, :, :, :] = extract_patches(QSM_test_vol, patch_shape=segment_size, extraction_step=(9, 9, 3))\n",
    "    x_test[:, 0, :, :, :] = (x_test[:, 0, :, :, :] - QSM_mean) / QSM_std\n",
    "\n",
    "    pred = model.predict(x_test, verbose=1)\n",
    "    pred_classes = np.argmax(pred, axis=2)\n",
    "    pred_classes = pred_classes.reshape((len(pred_classes), 9, 9, 3))\n",
    "    segmentation = reconstruct_volume(pred_classes, matrix_size)\n",
    "    \n",
    "    segmentations_all = segmentations_all + [segmentation]\n",
    "    \n",
    "segmentations_all = np.stack(segmentations_all, axis=0)"
   ]
  },
  {
   "cell_type": "code",
   "execution_count": 163,
   "metadata": {},
   "outputs": [],
   "source": [
    "diff_vols = (label_vols == 0) & (segmentations_all != 0);"
   ]
  },
  {
   "cell_type": "code",
   "execution_count": 164,
   "metadata": {},
   "outputs": [],
   "source": [
    "mask_vols = np.zeros(label_vols.shape, dtype=precision_global)\n",
    "mask_vols[diff_vols == True] = 1"
   ]
  },
  {
   "cell_type": "code",
   "execution_count": 165,
   "metadata": {},
   "outputs": [
    {
     "data": {
      "image/png": "[encoded data removed]",
      "text/plain": [
       "<matplotlib.figure.Figure at 0x7f09a62b5a20>"
      ]
     },
     "metadata": {},
     "output_type": "display_data"
    }
   ],
   "source": [
    "plots(200*(np.squeeze(mask_vols[0:15,:,:,25])), rows=3)"
   ]
  },
  {
   "cell_type": "markdown",
   "metadata": {},
   "source": [
    "## 2.2 Rebuild training dataset"
   ]
  },
  {
   "cell_type": "code",
   "execution_count": 166,
   "metadata": {},
   "outputs": [
    {
     "data": {
      "text/plain": [
       "((34209, 1, 27, 27, 21), (34209, 243, 11))"
      ]
     },
     "execution_count": 166,
     "metadata": {},
     "output_type": "execute_result"
    }
   ],
   "source": [
    "x_train, y_train = build_set_mask(QSM_vols, label_vols, extraction_step, mask_vols, segment_size, core_size)\n",
    "x_train.shape, y_train.shape"
   ]
  },
  {
   "cell_type": "markdown",
   "metadata": {},
   "source": [
    "## 2.3 Regenerate model"
   ]
  },
  {
   "cell_type": "code",
   "execution_count": 167,
   "metadata": {},
   "outputs": [],
   "source": [
    "from keras.callbacks import ModelCheckpoint\n",
    "from keras.callbacks import CSVLogger\n",
    "from keras.callbacks import EarlyStopping\n",
    "\n",
    "# Early stopping for reducing over-fitting risk\n",
    "stopper = EarlyStopping(patience=patience)\n",
    "\n",
    "# Model checkpoint to save the training results\n",
    "checkpointer = ModelCheckpoint(\n",
    "    filepath=model_filename.format('2'),\n",
    "    verbose=0,\n",
    "    save_best_only=True,\n",
    "    save_weights_only=True)\n",
    "\n",
    "# CSVLogger to save the training results in a csv file\n",
    "csv_logger = CSVLogger(csv_filename.format(1), separator=';')\n",
    "\n",
    "callbacks = [checkpointer, csv_logger, stopper]\n",
    "#callbacks = [checkpointer, csv_logger]"
   ]
  },
  {
   "cell_type": "code",
   "execution_count": 168,
   "metadata": {},
   "outputs": [
    {
     "name": "stdout",
     "output_type": "stream",
     "text": [
      "Train on 25656 samples, validate on 8553 samples\n",
      "Epoch 1/40\n",
      "25656/25656 [==============================] - 170s - loss: 0.0395 - categorical_accuracy: 0.9843 - val_loss: 0.1810 - val_categorical_accuracy: 0.9663\n",
      "Epoch 2/40\n",
      "25656/25656 [==============================] - 166s - loss: 0.0248 - categorical_accuracy: 0.9899 - val_loss: 0.1909 - val_categorical_accuracy: 0.9677\n",
      "Epoch 3/40\n",
      "25656/25656 [==============================] - 166s - loss: 0.0183 - categorical_accuracy: 0.9926 - val_loss: 0.2293 - val_categorical_accuracy: 0.9662\n",
      "Epoch 4/40\n",
      "25656/25656 [==============================] - 166s - loss: 0.0153 - categorical_accuracy: 0.9939 - val_loss: 0.2329 - val_categorical_accuracy: 0.9677\n",
      "Epoch 5/40\n",
      "25656/25656 [==============================] - 166s - loss: 0.0105 - categorical_accuracy: 0.9959 - val_loss: 0.2476 - val_categorical_accuracy: 0.9675\n",
      "Epoch 6/40\n",
      "25656/25656 [==============================] - 166s - loss: 0.0082 - categorical_accuracy: 0.9968 - val_loss: 0.2839 - val_categorical_accuracy: 0.9676\n",
      "Epoch 7/40\n",
      "25656/25656 [==============================] - 166s - loss: 0.0063 - categorical_accuracy: 0.9976 - val_loss: 0.3020 - val_categorical_accuracy: 0.9664\n"
     ]
    },
    {
     "data": {
      "text/plain": [
       "<keras.callbacks.History at 0x7f0983d5f5c0>"
      ]
     },
     "execution_count": 168,
     "metadata": {},
     "output_type": "execute_result"
    }
   ],
   "source": [
    "# Build model\n",
    "model = generate_model(num_classes, segment_size, core_size)\n",
    "\n",
    "# Load optimized weights\n",
    "model.load_weights(model_filename.format('1'))\n",
    "\n",
    "K.set_value(model.optimizer.lr, 1e-4)\n",
    "\n",
    "# Start fine-tuning\n",
    "model.fit(\n",
    "    x_train,\n",
    "    y_train,\n",
    "    epochs=nb_epoch,\n",
    "    validation_split=validation_split,\n",
    "    verbose=1,\n",
    "    callbacks=callbacks)\n",
    "\n",
    "# freeing space\n",
    "#del x_train\n",
    "#del y_train"
   ]
  },
  {
   "cell_type": "code",
   "execution_count": 169,
   "metadata": {},
   "outputs": [
    {
     "name": "stdout",
     "output_type": "stream",
     "text": [
      "Train on 25656 samples, validate on 8553 samples\n",
      "Epoch 1/20\n",
      "25656/25656 [==============================] - 166s - loss: 0.0260 - categorical_accuracy: 0.9895 - val_loss: 0.1828 - val_categorical_accuracy: 0.9674\n",
      "Epoch 2/20\n",
      "25656/25656 [==============================] - 166s - loss: 0.0244 - categorical_accuracy: 0.9901 - val_loss: 0.1846 - val_categorical_accuracy: 0.9672\n",
      "Epoch 3/20\n",
      "25656/25656 [==============================] - 166s - loss: 0.0231 - categorical_accuracy: 0.9906 - val_loss: 0.1925 - val_categorical_accuracy: 0.9672\n",
      "Epoch 4/20\n",
      "25656/25656 [==============================] - 166s - loss: 0.0219 - categorical_accuracy: 0.9911 - val_loss: 0.1944 - val_categorical_accuracy: 0.9673\n",
      "Epoch 5/20\n",
      "25656/25656 [==============================] - 166s - loss: 0.0208 - categorical_accuracy: 0.9916 - val_loss: 0.2043 - val_categorical_accuracy: 0.9671\n",
      "Epoch 6/20\n",
      "25656/25656 [==============================] - 166s - loss: 0.0196 - categorical_accuracy: 0.9921 - val_loss: 0.2086 - val_categorical_accuracy: 0.9673\n",
      "Epoch 7/20\n",
      "25656/25656 [==============================] - 166s - loss: 0.0185 - categorical_accuracy: 0.9925 - val_loss: 0.2165 - val_categorical_accuracy: 0.9671\n"
     ]
    },
    {
     "data": {
      "text/plain": [
       "<keras.callbacks.History at 0x7f09837e5f98>"
      ]
     },
     "execution_count": 169,
     "metadata": {},
     "output_type": "execute_result"
    }
   ],
   "source": [
    "model.load_weights(model_filename.format('2'))\n",
    "\n",
    "K.set_value(model.optimizer.lr, 1e-5)\n",
    "\n",
    "# Start fine-tuning\n",
    "model.fit(\n",
    "    x_train,\n",
    "    y_train,\n",
    "    epochs=20,\n",
    "    validation_split=validation_split,\n",
    "    verbose=1,\n",
    "    callbacks=callbacks)"
   ]
  },
  {
   "cell_type": "code",
   "execution_count": null,
   "metadata": {},
   "outputs": [],
   "source": [
    "model.save_weights(model_filename.format('2'))"
   ]
  },
  {
   "cell_type": "code",
   "execution_count": 170,
   "metadata": {},
   "outputs": [],
   "source": [
    "# Load best model\n",
    "model = generate_model(num_classes, segment_size, core_size)\n",
    "model.load_weights(model_filename.format('2'))"
   ]
  },
  {
   "cell_type": "code",
   "execution_count": 171,
   "metadata": {},
   "outputs": [
    {
     "name": "stdout",
     "output_type": "stream",
     "text": [
      "1\n",
      "3296/3300 [============================>.] - ETA: 0s2\n",
      "3296/3300 [============================>.] - ETA: 0s3\n",
      "3296/3300 [============================>.] - ETA: 0s4\n",
      "3296/3300 [============================>.] - ETA: 0s5\n",
      "3296/3300 [============================>.] - ETA: 0s6\n",
      "3296/3300 [============================>.] - ETA: 0s7\n",
      "3296/3300 [============================>.] - ETA: 0s8\n",
      "3296/3300 [============================>.] - ETA: 0s9\n",
      "3296/3300 [============================>.] - ETA: 0s10\n",
      "3296/3300 [============================>.] - ETA: 0s11\n",
      "3296/3300 [============================>.] - ETA: 0s12\n",
      "3296/3300 [============================>.] - ETA: 0s13\n",
      "3296/3300 [============================>.] - ETA: 0s14\n",
      "3296/3300 [============================>.] - ETA: 0s15\n",
      "3296/3300 [============================>.] - ETA: 0s"
     ]
    }
   ],
   "source": [
    "segmentations2_all = []\n",
    "\n",
    "for case_idx in range(1,16):\n",
    "    \n",
    "    print(case_idx)\n",
    "    QSM_test_vol = read_vol(case_idx, 'QSM')\n",
    "\n",
    "    x_test = np.zeros((len_patch, 1,) + segment_size, dtype=precision_global)\n",
    "    x_test[:, 0, :, :, :] = extract_patches(QSM_test_vol, patch_shape=segment_size, extraction_step=(9, 9, 3))\n",
    "    x_test[:, 0, :, :, :] = (x_test[:, 0, :, :, :] - QSM_mean) / QSM_std\n",
    "\n",
    "    pred = model.predict(x_test, verbose=1)\n",
    "    pred_classes = np.argmax(pred, axis=2)\n",
    "    pred_classes = pred_classes.reshape((len(pred_classes), 9, 9, 3))\n",
    "    segmentation = reconstruct_volume(pred_classes, matrix_size)\n",
    "    \n",
    "    segmentations2_all = segmentations2_all + [segmentation]\n",
    "    \n",
    "segmentations2_all = np.stack(segmentations2_all, axis=0)\n"
   ]
  },
  {
   "cell_type": "code",
   "execution_count": 172,
   "metadata": {},
   "outputs": [
    {
     "data": {
      "text/plain": [
       "10.0"
      ]
     },
     "execution_count": 172,
     "metadata": {},
     "output_type": "execute_result"
    }
   ],
   "source": [
    "segmentations2_all.max()"
   ]
  },
  {
   "cell_type": "code",
   "execution_count": 173,
   "metadata": {},
   "outputs": [
    {
     "data": {
      "image/png": "[encoded data removed]",
      "text/plain": [
       "<matplotlib.figure.Figure at 0x7f09a5e4f550>"
      ]
     },
     "metadata": {},
     "output_type": "display_data"
    }
   ],
   "source": [
    "plots(50*(np.squeeze(label_vols[0:15,:,:,25])), rows=3)"
   ]
  },
  {
   "cell_type": "code",
   "execution_count": 174,
   "metadata": {},
   "outputs": [
    {
     "data": {
      "image/png": "[encoded data removed]",
      "text/plain": [
       "<matplotlib.figure.Figure at 0x7f0997398470>"
      ]
     },
     "metadata": {},
     "output_type": "display_data"
    }
   ],
   "source": [
    "plots(50*(np.squeeze(segmentations2_all[0:15,:,:,25])), rows=3)"
   ]
  },
  {
   "cell_type": "code",
   "execution_count": 205,
   "metadata": {},
   "outputs": [
    {
     "name": "stdout",
     "output_type": "stream",
     "text": [
      "16\n",
      "3296/3300 [============================>.] - ETA: 0s17\n",
      "3296/3300 [============================>.] - ETA: 0s18\n",
      "3296/3300 [============================>.] - ETA: 0s19\n",
      "3296/3300 [============================>.] - ETA: 0s20\n",
      "3296/3300 [============================>.] - ETA: 0sDone with Step 2\n"
     ]
    }
   ],
   "source": [
    "segmentations2_all = []\n",
    "\n",
    "for case_idx in range(16,21):\n",
    "    \n",
    "    print(case_idx)\n",
    "    QSM_test_vol = read_vol(case_idx, 'QSM')\n",
    "\n",
    "    x_test = np.zeros((len_patch, 1,) + segment_size, dtype=precision_global)\n",
    "    x_test[:, 0, :, :, :] = extract_patches(QSM_test_vol, patch_shape=segment_size, extraction_step=(9, 9, 3))\n",
    "    x_test[:, 0, :, :, :] = (x_test[:, 0, :, :, :] - QSM_mean) / QSM_std\n",
    "\n",
    "    pred = model.predict(x_test, verbose=1)\n",
    "    pred_classes = np.argmax(pred, axis=2)\n",
    "    pred_classes = pred_classes.reshape((len(pred_classes), 9, 9, 3))\n",
    "    segmentation = reconstruct_volume(pred_classes, matrix_size)\n",
    "    \n",
    "    segmentations2_all = segmentations2_all + [segmentation]\n",
    "    \n",
    "    tmp = np.copy(segmentation)\n",
    "    for class_idx in class_mapper_inv :\n",
    "        segmentation[tmp == class_idx] = class_mapper_inv[class_idx]\n",
    "    del tmp\n",
    "    \n",
    "    save_vol(segmentation, case_idx)\n",
    "    \n",
    "segmentations2_all = np.stack(segmentations2_all, axis=0)\n",
    "\n",
    "print(\"Done with Step 2\")"
   ]
  },
  {
   "cell_type": "markdown",
   "metadata": {},
   "source": [
    "# 3 Post-processing"
   ]
  },
  {
   "cell_type": "markdown",
   "metadata": {},
   "source": [
    "## 3.1 Pick the largest connected component for each class"
   ]
  },
  {
   "cell_type": "code",
   "execution_count": 206,
   "metadata": {},
   "outputs": [],
   "source": [
    "for case_idx in range(5):\n",
    "    segmentation = np.squeeze(segmentations2_all[case_idx,:,:,:]);\n",
    "    tmp = np.zeros(segmentation.shape, dtype=segmentation.dtype)\n",
    "    \n",
    "    for class_idx in class_mapper :\n",
    "        mask = (segmentation == class_idx)\n",
    "        \n",
    "        if class_idx != 0 and mask.sum() > 0:\n",
    "            labeled_mask, num_cc = ndimage.label(mask)\n",
    "            largest_cc_mask = (labeled_mask == (np.bincount(labeled_mask.flat)[1:].argmax() + 1))\n",
    "            \n",
    "            tmp[largest_cc_mask == 1] = class_idx\n",
    "        \n",
    "    segmentations2_all[case_idx,:,:,:] = tmp"
   ]
  },
  {
   "cell_type": "markdown",
   "metadata": {},
   "source": [
    "## 3.2 Save it "
   ]
  },
  {
   "cell_type": "code",
   "execution_count": 207,
   "metadata": {},
   "outputs": [
    {
     "name": "stdout",
     "output_type": "stream",
     "text": [
      "16\n",
      "17\n",
      "18\n",
      "19\n",
      "20\n",
      "Done with Step 3\n"
     ]
    }
   ],
   "source": [
    "for i_idx, case_idx in enumerate(range(16,21)):\n",
    "    print(case_idx)\n",
    "    \n",
    "    segmentation = np.squeeze(segmentations2_all[i_idx,:,:,:]);\n",
    "\n",
    "    save_vol(segmentation, case_idx)    \n",
    "\n",
    "print(\"Done with Step 3\")"
   ]
  },
  {
   "cell_type": "markdown",
   "metadata": {},
   "source": [
    "## 3.3 Calculate metric "
   ]
  },
  {
   "cell_type": "code",
   "execution_count": 210,
   "metadata": {},
   "outputs": [],
   "source": [
    "QSM_vols = np.empty(((n_test,) + matrix_size), dtype=precision_global)\n",
    "label_vols = np.empty(((n_test,) + matrix_size), dtype=precision_global)\n",
    "for i_idx, case_idx in enumerate(range(16, 21)) :\n",
    "    QSM_vols[i_idx, :, :, :] = read_vol(case_idx, 'QSM')\n",
    "    label_vols[i_idx, :, :, :] = read_vol(case_idx, 'label')"
   ]
  },
  {
   "cell_type": "code",
   "execution_count": 248,
   "metadata": {},
   "outputs": [],
   "source": [
    "def calc_dice(m1, m2):\n",
    "    return 2*((m1==1) & (m2==1)).sum()/((m1==1).sum() + (m2==1).sum())"
   ]
  },
  {
   "cell_type": "code",
   "execution_count": 241,
   "metadata": {},
   "outputs": [
    {
     "name": "stdout",
     "output_type": "stream",
     "text": [
      "16\t0.9986\tN/A\t0.8941\t0.8810\t0.7833\t0.7475\t0.8762\t0.9444\t0.9204\t0.8651\t1.0000\t0.8077\t\n",
      "17\t0.9991\tN/A\t0.8804\t0.8906\t0.7700\t0.6761\t0.6720\t0.9619\t0.8709\t0.8585\t0.9651\t0.7385\t\n",
      "18\t0.9988\tN/A\tN/A\t1.0000\t0.7417\t0.8053\t0.7530\t0.7280\t0.9379\t0.7580\t0.8014\t0.8096\t\n",
      "19\t0.9992\tN/A\t0.7143\t0.9091\t0.8224\t0.8402\t0.9523\t0.9680\t0.8498\t0.8623\t0.7890\t0.7774\t\n",
      "20\t0.9987\tN/A\t1.0000\t0.7917\t0.7910\t0.8587\t0.9181\t0.9352\t0.6459\t0.6202\t0.8647\t0.8018\t\n"
     ]
    }
   ],
   "source": [
    "for i_idx, case_idx in enumerate(range(16, 21)) :\n",
    "    print(case_idx, end='\\t')\n",
    "    print('{:.4f}'.format(accuracy_score(label_vols[i_idx,:,:,:].flat, segmentations2_all[i_idx,:,:,:].flat)), end='\\t')\n",
    "    for class_idx in class_mapper :\n",
    "        mask = (np.squeeze(segmentations2_all[i_idx,:,:,:]) == class_idx)\n",
    "        if class_idx != 0 and mask.sum() > 0:\n",
    "            print('{:.4f}'.format(precision_score(label_vols[i_idx,:,:,:][mask], segmentations2_all[i_idx,:,:,:][mask], average='micro')), end='\\t')\n",
    "        else:\n",
    "            print('N/A', end='\\t')\n",
    "    print()"
   ]
  },
  {
   "cell_type": "code",
   "execution_count": 249,
   "metadata": {},
   "outputs": [
    {
     "name": "stdout",
     "output_type": "stream",
     "text": [
      "16\t0\t0.8736\t0.8457\t0.8641\t0.8087\t0.8870\t0.9270\t0.7112\t0.8344\t0.0894\t0.1988\t\n",
      "17\t0\t0.8710\t0.7451\t0.8485\t0.7956\t0.7843\t0.9039\t0.8550\t0.8809\t0.7464\t0.7825\t\n",
      "18\t0\t0\t0.0690\t0.8058\t0.6190\t0.7966\t0.8058\t0.3901\t0.6451\t0.6923\t0.7823\t\n",
      "19\t0\t0.1724\t0.6250\t0.8421\t0.8214\t0.8947\t0.8864\t0.7668\t0.8424\t0.6703\t0.7312\t\n",
      "20\t0\t0.9217\t0.7550\t0.8025\t0.8757\t0.7578\t0.7653\t0.5825\t0.6676\t0.6806\t0.6634\t\n"
     ]
    }
   ],
   "source": [
    "for i_idx, case_idx in enumerate(range(16, 21)) :\n",
    "    print(case_idx, end='\\t')\n",
    "    for class_idx in class_mapper :\n",
    "        mask = (np.squeeze(segmentations2_all[i_idx,:,:,:]) == class_idx)\n",
    "        if class_idx != 0 and mask.sum() > 0:\n",
    "            print('{:.4f}'.format(calc_dice((label_vols[i_idx,:,:,:]==class_idx).flat, (segmentations2_all[i_idx,:,:,:]==class_idx).flat)), end='\\t')\n",
    "        else:\n",
    "            print(0, end='\\t')\n",
    "    print()"
   ]
  }
 ],
 "metadata": {
  "kernelspec": {
   "display_name": "Python 3",
   "language": "python",
   "name": "python3"
  },
  "language_info": {
   "codemirror_mode": {
    "name": "ipython",
    "version": 3
   },
   "file_extension": ".py",
   "mimetype": "text/x-python",
   "name": "python",
   "nbconvert_exporter": "python",
   "pygments_lexer": "ipython3",
   "version": "3.5.2"
  }
 },
 "nbformat": 4,
 "nbformat_minor": 2
}
